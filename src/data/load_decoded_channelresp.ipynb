{
 "cells": [
  {
   "cell_type": "code",
   "execution_count": 1,
   "metadata": {},
   "outputs": [],
   "source": [
    "\n",
    "import sys\n",
    "import pickle\n",
    "from scipy import io\n",
    "import os\n",
    "import numpy as np\n",
    "import pandas as pd \n",
    "import copy\n",
    "import matplotlib.pyplot as plt\n"
   ]
  },
  {
   "cell_type": "code",
   "execution_count": 2,
   "metadata": {},
   "outputs": [],
   "source": [
    "\n",
    "#%% Subject file\n",
    "dataloc = '/Volumes/ROOT/CSNL_temp/HG/Analysis/Decoding/IEM/SJK2021/VC/channel_z_loro_min2/'\n",
    "saveloc = '/Volumes/ROOT/CSNL_temp/JWL/sensory_mnemonic_codes_in_visualcortex/data/decoded/'\n",
    "ro_path   = dataloc\n",
    "ro_list   = os.listdir(ro_path)\n",
    "ro_list   = sorted([s[12:16] for s in ro_list if 'sub' in s])\n"
   ]
  },
  {
   "cell_type": "code",
   "execution_count": 3,
   "metadata": {},
   "outputs": [
    {
     "data": {
      "text/plain": [
       "array([ 0,  1,  2,  3,  4,  5,  6,  7,  8,  9, 10, 11, 12, 13, 14, 15, 16,\n",
       "       17, 18, 19, 20, 21, 22, 23, 24, 25, 26, 27, 28, 29, 30, 31, 32, 33,\n",
       "       34, 35, 36, 37, 38, 39, 40, 41, 42, 43, 44, 45, 46, 47, 48, 49])"
      ]
     },
     "execution_count": 3,
     "metadata": {},
     "output_type": "execute_result"
    }
   ],
   "source": [
    "np.arange(len(ro_list))"
   ]
  },
  {
   "cell_type": "code",
   "execution_count": 6,
   "metadata": {},
   "outputs": [],
   "source": [
    "for i in np.arange(len(ro_list)):\n",
    "    # load example dataset \n",
    "    with open(f'{dataloc}channel_sub-{ro_list[i]}.pkl', 'rb') as f:\n",
    "        data = pickle.load(f)\n",
    "\n",
    "    # save as .mat file\n",
    "    datamat = {}\n",
    "    datamat = {\n",
    "            'ID'       :np.array(data['behav']['ID']), \n",
    "            'ses'      :np.array(data['behav']['ses']), \n",
    "            'run'      :np.array(data['behav']['run']),\n",
    "            'trial'    :np.array(data['behav']['trial']),\n",
    "            'stim'     :np.array(data['behav']['stim']),\n",
    "            'Timing'   :np.array(data['behav']['Timing']),\n",
    "            'ref'      :np.array(data['behav']['ref']),\n",
    "            'choice'   :np.array(data['behav']['choice']),\n",
    "            'DM_RT'    :np.array(data['behav']['DM_RT']),\n",
    "            'esti'     :np.array(data['behav']['esti']),\n",
    "            'error'    :np.array(data['behav']['error']),\n",
    "            'Early'    :np.array(data['Early']),\n",
    "            'Late'     :np.array(data['Late']),\n",
    "            }\n",
    "\n",
    "    io.savemat(f'{saveloc}VC_sub-{ro_list[i]}.mat', datamat)\n"
   ]
  }
 ],
 "metadata": {
  "kernelspec": {
   "display_name": "Python 3",
   "language": "python",
   "name": "python3"
  },
  "language_info": {
   "codemirror_mode": {
    "name": "ipython",
    "version": 3
   },
   "file_extension": ".py",
   "mimetype": "text/x-python",
   "name": "python",
   "nbconvert_exporter": "python",
   "pygments_lexer": "ipython3",
   "version": "3.9.5"
  },
  "vscode": {
   "interpreter": {
    "hash": "aee8b7b246df8f9039afb4144a1f6fd8d2ca17a180786b69acc140d282b71a49"
   }
  }
 },
 "nbformat": 4,
 "nbformat_minor": 4
}
